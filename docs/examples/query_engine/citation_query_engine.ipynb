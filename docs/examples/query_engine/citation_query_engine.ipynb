{
 "cells": [
  {
   "cell_type": "code",
   "execution_count": 1,
   "id": "6b0d7e13",
   "metadata": {},
   "outputs": [
    {
     "name": "stderr",
     "output_type": "stream",
     "text": [
      "/home/loganm/miniconda3/envs/gpt_index/lib/python3.11/site-packages/tqdm/auto.py:21: TqdmWarning: IProgress not found. Please update jupyter and ipywidgets. See https://ipywidgets.readthedocs.io/en/stable/user_install.html\n",
      "  from .autonotebook import tqdm as notebook_tqdm\n"
     ]
    }
   ],
   "source": [
    "import os\n",
    "from langchain.chat_models import ChatOpenAI\n",
    "from llama_index.query_engine.citation_query_engine import CitaitonQueryEngine\n",
    "from llama_index.retrievers import VectorIndexRetriever\n",
    "from llama_index import (\n",
    "    VectorStoreIndex,\n",
    "    ResponseSynthesizer,\n",
    "    SimpleDirectoryReader,\n",
    "    StorageContext,\n",
    "    load_index_from_storage,\n",
    "    LLMPredictor,\n",
    "    ServiceContext,\n",
    ")"
   ]
  },
  {
   "cell_type": "code",
   "execution_count": 2,
   "id": "1a9c49be",
   "metadata": {},
   "outputs": [],
   "source": [
    "# service_context = ServiceContext.from_defaults(\n",
    "#     llm_predictor=LLMPredictor(llm=ChatOpenAI(model_name='gpt-3.5-turbo', temperature=0))\n",
    "# )"
   ]
  },
  {
   "cell_type": "code",
   "execution_count": 6,
   "id": "80b8d666",
   "metadata": {},
   "outputs": [],
   "source": [
    "if not os.path.exists(\"./citation\"):\n",
    "    documents = SimpleDirectoryReader(\"../data/paul_graham\").load_data()\n",
    "    index = VectorStoreIndex.from_documents(documents)\n",
    "    index.storage_context.persist(persist_dir=\"./citation\")\n",
    "else:\n",
    "    index = load_index_from_storage(\n",
    "        StorageContext.from_defaults(persist_dir=\"./citation\")\n",
    "    )  # , service_context=service_context)\n"
   ]
  },
  {
   "cell_type": "code",
   "execution_count": 8,
   "id": "ad66aeac",
   "metadata": {},
   "outputs": [],
   "source": [
    "retriever = VectorIndexRetriever(\n",
    "    index=index,\n",
    "    similarity_top_k=2,\n",
    "    # service_context=service_context\n",
    ")"
   ]
  },
  {
   "cell_type": "code",
   "execution_count": 9,
   "id": "7bc3d1e9",
   "metadata": {},
   "outputs": [],
   "source": [
    "query_engine = CitaitonQueryEngine.from_args(\n",
    "    retriever=retriever\n",
    ")  # , service_context=service_context)\n"
   ]
  },
  {
   "cell_type": "code",
   "execution_count": 10,
   "id": "b80df9c3",
   "metadata": {},
   "outputs": [
    {
     "name": "stdout",
     "output_type": "stream",
     "text": [
      "> \u001b[0;32m/home/loganm/llama_index_proper/llama_index/llama_index/query_engine/citation_query_engine.py\u001b[0m(198)\u001b[0;36m_query\u001b[0;34m()\u001b[0m\n",
      "\u001b[0;32m    196 \u001b[0;31m\u001b[0;34m\u001b[0m\u001b[0m\n",
      "\u001b[0m\u001b[0;32m    197 \u001b[0;31m        \u001b[0mpdb\u001b[0m\u001b[0;34m.\u001b[0m\u001b[0mset_trace\u001b[0m\u001b[0;34m(\u001b[0m\u001b[0;34m)\u001b[0m\u001b[0;34m\u001b[0m\u001b[0;34m\u001b[0m\u001b[0m\n",
      "\u001b[0m\u001b[0;32m--> 198 \u001b[0;31m        response = self._response_synthesizer.synthesize(\n",
      "\u001b[0m\u001b[0;32m    199 \u001b[0;31m            \u001b[0mquery_bundle\u001b[0m\u001b[0;34m=\u001b[0m\u001b[0mquery_bundle\u001b[0m\u001b[0;34m,\u001b[0m\u001b[0;34m\u001b[0m\u001b[0;34m\u001b[0m\u001b[0m\n",
      "\u001b[0m\u001b[0;32m    200 \u001b[0;31m            \u001b[0mnodes\u001b[0m\u001b[0;34m=\u001b[0m\u001b[0mnodes\u001b[0m\u001b[0;34m,\u001b[0m\u001b[0;34m\u001b[0m\u001b[0;34m\u001b[0m\u001b[0m\n",
      "\u001b[0m\n",
      "ipdb> c\n"
     ]
    }
   ],
   "source": [
    "response = query_engine.query(\"what did the author do growing up?\")"
   ]
  },
  {
   "cell_type": "code",
   "execution_count": 11,
   "id": "1f13b143",
   "metadata": {},
   "outputs": [
    {
     "name": "stdout",
     "output_type": "stream",
     "text": [
      " Growing up, the author wrote short stories and tried programming on an IBM 1401 using an early version of Fortran [1]. He also wrote simple games, a program to predict how high his model rockets would fly, and a word processor on a TRS-80 [3]. He studied philosophy in college, but switched to AI after being inspired by a novel and a PBS documentary [4]. He eventually started publishing essays online and wrote a collection of them that was reprinted as a book [8]. He also worked on spam filters, painted, cooked for groups, and bought a building in Cambridge [9].\n"
     ]
    }
   ],
   "source": [
    "print(response)"
   ]
  },
  {
   "cell_type": "code",
   "execution_count": 12,
   "id": "e7397ccb",
   "metadata": {},
   "outputs": [
    {
     "name": "stdout",
     "output_type": "stream",
     "text": [
      "> Source (Doc id: aac24e4f-8617-4c59-8c54-bb0b76e22c4f): Source 1:\n",
      "What I Worked On\n",
      "\n",
      "February 2021\n",
      "\n",
      "Before college the two main things I worked on, outsid...\n",
      "\n",
      "> Source (Doc id: 8c201d7b-f939-4fde-b9a0-591a5f629d9e): Source 2:\n",
      "early version of Fortran. You had to type programs on punch cards, then stack them in t...\n",
      "\n",
      "> Source (Doc id: d8426607-80cd-4286-be1e-3a9a7a748649): Source 3:\n",
      "this was a social as well as a technical error, as the data center manager's expression...\n",
      "\n",
      "> Source (Doc id: 03f1adf2-7676-4b0e-be59-fef5a638ad75): Source 4:\n",
      "used to write at least one book. There was only room in memory for about 2 pages of tex...\n",
      "\n",
      "> Source (Doc id: e8a2868d-8131-487e-ab93-30aa2958906c): Source 5:\n",
      "to AI.\n",
      "\n",
      "AI was in the air in the mid 1980s, but there were two things especially that m...\n",
      "\n",
      "> Source (Doc id: 9d1ff46c-c23c-4b51-bca0-49cb61543046): Source 6:\n",
      "page views. What on earth had happened? The referring urls showed that someone had post...\n",
      "\n",
      "> Source (Doc id: b4ddaf4d-28f7-4a1a-bab7-6d32ee1cd854): Source 7:\n",
      "[11]\n",
      "\n",
      "In the print era, the channel for publishing essays had been vanishingly small. E...\n",
      "\n",
      "> Source (Doc id: 5168c389-b60a-4666-9921-f5225a06ca8b): Source 8:\n",
      "instead of discouraging.\n",
      "\n",
      "One of the most conspicuous patterns I've noticed in my life ...\n",
      "\n",
      "> Source (Doc id: 22b901dc-3d84-4fbd-9c15-100d1872979b): Source 9:\n",
      "it will be the desire to impress people. So while working on things that aren't prestig...\n",
      "\n",
      "> Source (Doc id: 7f4ddbb8-98b8-44ce-b510-a3e77420e204): Source 10:\n",
      "one party. So for every guest, two thirds of the other guests would be people they did...\n"
     ]
    }
   ],
   "source": [
    "print(response.get_formatted_sources())"
   ]
  },
  {
   "cell_type": "code",
   "execution_count": null,
   "id": "6c5bdc54",
   "metadata": {},
   "outputs": [],
   "source": []
  }
 ],
 "metadata": {
  "kernelspec": {
   "display_name": "gpt_index",
   "language": "python",
   "name": "gpt_index"
  },
  "language_info": {
   "codemirror_mode": {
    "name": "ipython",
    "version": 3
   },
   "file_extension": ".py",
   "mimetype": "text/x-python",
   "name": "python",
   "nbconvert_exporter": "python",
   "pygments_lexer": "ipython3",
   "version": "3.11.0"
  }
 },
 "nbformat": 4,
 "nbformat_minor": 5
}
